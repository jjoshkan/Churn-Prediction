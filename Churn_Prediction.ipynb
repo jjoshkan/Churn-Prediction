{
 "cells": [
  {
   "cell_type": "markdown",
   "metadata": {},
   "source": [
    "# Churn Model Prediction"
   ]
  },
  {
   "cell_type": "markdown",
   "metadata": {},
   "source": [
    "## Import the libraries needed"
   ]
  },
  {
   "cell_type": "code",
   "execution_count": 118,
   "metadata": {},
   "outputs": [],
   "source": [
    "# ignore local warnings\n",
    "import warnings\n",
    "warnings.simplefilter('ignore')\n",
    "\n",
    "import pandas as pd\n",
    "import numpy as np\n",
    "import tensorflow as tf\n",
    "import seaborn as sns\n",
    "sns.set(style=\"darkgrid\")\n",
    "\n",
    "from sklearn.model_selection import train_test_split\n",
    "from sklearn.preprocessing import StandardScaler\n",
    "from sklearn.compose import ColumnTransformer\n",
    "from sklearn.preprocessing import OneHotEncoder\n",
    "from sklearn.preprocessing import LabelEncoder\n",
    "from sklearn.metrics import confusion_matrix, accuracy_score\n",
    "from sklearn.model_selection import cross_val_score\n",
    "\n",
    "# Model packages\n",
    "from xgboost import XGBClassifier\n",
    "from sklearn.ensemble import RandomForestClassifier\n",
    "from sklearn.naive_bayes import GaussianNB\n",
    "from sklearn.linear_model import LogisticRegression\n",
    "from sklearn.neighbors import KNeighborsClassifier\n",
    "from keras.wrappers.scikit_learn import KerasClassifier"
   ]
  },
  {
   "cell_type": "markdown",
   "metadata": {},
   "source": [
    "## Import the dataset"
   ]
  },
  {
   "cell_type": "code",
   "execution_count": 119,
   "metadata": {},
   "outputs": [
    {
     "data": {
      "text/html": [
       "<div>\n",
       "<style scoped>\n",
       "    .dataframe tbody tr th:only-of-type {\n",
       "        vertical-align: middle;\n",
       "    }\n",
       "\n",
       "    .dataframe tbody tr th {\n",
       "        vertical-align: top;\n",
       "    }\n",
       "\n",
       "    .dataframe thead th {\n",
       "        text-align: right;\n",
       "    }\n",
       "</style>\n",
       "<table border=\"1\" class=\"dataframe\">\n",
       "  <thead>\n",
       "    <tr style=\"text-align: right;\">\n",
       "      <th></th>\n",
       "      <th>RowNumber</th>\n",
       "      <th>CustomerId</th>\n",
       "      <th>Surname</th>\n",
       "      <th>CreditScore</th>\n",
       "      <th>Geography</th>\n",
       "      <th>Gender</th>\n",
       "      <th>Age</th>\n",
       "      <th>Tenure</th>\n",
       "      <th>Balance</th>\n",
       "      <th>NumOfProducts</th>\n",
       "      <th>HasCrCard</th>\n",
       "      <th>IsActiveMember</th>\n",
       "      <th>EstimatedSalary</th>\n",
       "      <th>Exited</th>\n",
       "    </tr>\n",
       "  </thead>\n",
       "  <tbody>\n",
       "    <tr>\n",
       "      <th>0</th>\n",
       "      <td>1</td>\n",
       "      <td>15634602</td>\n",
       "      <td>Hargrave</td>\n",
       "      <td>619</td>\n",
       "      <td>France</td>\n",
       "      <td>Female</td>\n",
       "      <td>42</td>\n",
       "      <td>2</td>\n",
       "      <td>0.00</td>\n",
       "      <td>1</td>\n",
       "      <td>1</td>\n",
       "      <td>1</td>\n",
       "      <td>101348.88</td>\n",
       "      <td>1</td>\n",
       "    </tr>\n",
       "    <tr>\n",
       "      <th>1</th>\n",
       "      <td>2</td>\n",
       "      <td>15647311</td>\n",
       "      <td>Hill</td>\n",
       "      <td>608</td>\n",
       "      <td>Spain</td>\n",
       "      <td>Female</td>\n",
       "      <td>41</td>\n",
       "      <td>1</td>\n",
       "      <td>83807.86</td>\n",
       "      <td>1</td>\n",
       "      <td>0</td>\n",
       "      <td>1</td>\n",
       "      <td>112542.58</td>\n",
       "      <td>0</td>\n",
       "    </tr>\n",
       "    <tr>\n",
       "      <th>2</th>\n",
       "      <td>3</td>\n",
       "      <td>15619304</td>\n",
       "      <td>Onio</td>\n",
       "      <td>502</td>\n",
       "      <td>France</td>\n",
       "      <td>Female</td>\n",
       "      <td>42</td>\n",
       "      <td>8</td>\n",
       "      <td>159660.80</td>\n",
       "      <td>3</td>\n",
       "      <td>1</td>\n",
       "      <td>0</td>\n",
       "      <td>113931.57</td>\n",
       "      <td>1</td>\n",
       "    </tr>\n",
       "    <tr>\n",
       "      <th>3</th>\n",
       "      <td>4</td>\n",
       "      <td>15701354</td>\n",
       "      <td>Boni</td>\n",
       "      <td>699</td>\n",
       "      <td>France</td>\n",
       "      <td>Female</td>\n",
       "      <td>39</td>\n",
       "      <td>1</td>\n",
       "      <td>0.00</td>\n",
       "      <td>2</td>\n",
       "      <td>0</td>\n",
       "      <td>0</td>\n",
       "      <td>93826.63</td>\n",
       "      <td>0</td>\n",
       "    </tr>\n",
       "    <tr>\n",
       "      <th>4</th>\n",
       "      <td>5</td>\n",
       "      <td>15737888</td>\n",
       "      <td>Mitchell</td>\n",
       "      <td>850</td>\n",
       "      <td>Spain</td>\n",
       "      <td>Female</td>\n",
       "      <td>43</td>\n",
       "      <td>2</td>\n",
       "      <td>125510.82</td>\n",
       "      <td>1</td>\n",
       "      <td>1</td>\n",
       "      <td>1</td>\n",
       "      <td>79084.10</td>\n",
       "      <td>0</td>\n",
       "    </tr>\n",
       "  </tbody>\n",
       "</table>\n",
       "</div>"
      ],
      "text/plain": [
       "   RowNumber  CustomerId   Surname  CreditScore Geography  Gender  Age  \\\n",
       "0          1    15634602  Hargrave          619    France  Female   42   \n",
       "1          2    15647311      Hill          608     Spain  Female   41   \n",
       "2          3    15619304      Onio          502    France  Female   42   \n",
       "3          4    15701354      Boni          699    France  Female   39   \n",
       "4          5    15737888  Mitchell          850     Spain  Female   43   \n",
       "\n",
       "   Tenure    Balance  NumOfProducts  HasCrCard  IsActiveMember  \\\n",
       "0       2       0.00              1          1               1   \n",
       "1       1   83807.86              1          0               1   \n",
       "2       8  159660.80              3          1               0   \n",
       "3       1       0.00              2          0               0   \n",
       "4       2  125510.82              1          1               1   \n",
       "\n",
       "   EstimatedSalary  Exited  \n",
       "0        101348.88       1  \n",
       "1        112542.58       0  \n",
       "2        113931.57       1  \n",
       "3         93826.63       0  \n",
       "4         79084.10       0  "
      ]
     },
     "execution_count": 119,
     "metadata": {},
     "output_type": "execute_result"
    }
   ],
   "source": [
    "df = pd.read_csv(\"Churn_Modelling.csv\")\n",
    "df.head()"
   ]
  },
  {
   "cell_type": "markdown",
   "metadata": {},
   "source": [
    "## Exploratory Data Analysis (EDA)"
   ]
  },
  {
   "cell_type": "code",
   "execution_count": 120,
   "metadata": {},
   "outputs": [
    {
     "data": {
      "text/plain": [
       "(10000, 14)"
      ]
     },
     "execution_count": 120,
     "metadata": {},
     "output_type": "execute_result"
    }
   ],
   "source": [
    "df.shape"
   ]
  },
  {
   "cell_type": "code",
   "execution_count": 121,
   "metadata": {},
   "outputs": [
    {
     "data": {
      "text/plain": [
       "RowNumber          0\n",
       "CustomerId         0\n",
       "Surname            0\n",
       "CreditScore        0\n",
       "Geography          0\n",
       "Gender             0\n",
       "Age                0\n",
       "Tenure             0\n",
       "Balance            0\n",
       "NumOfProducts      0\n",
       "HasCrCard          0\n",
       "IsActiveMember     0\n",
       "EstimatedSalary    0\n",
       "Exited             0\n",
       "dtype: int64"
      ]
     },
     "execution_count": 121,
     "metadata": {},
     "output_type": "execute_result"
    }
   ],
   "source": [
    "df.isnull().sum()"
   ]
  },
  {
   "cell_type": "code",
   "execution_count": 122,
   "metadata": {},
   "outputs": [
    {
     "name": "stdout",
     "output_type": "stream",
     "text": [
      "<class 'pandas.core.frame.DataFrame'>\n",
      "RangeIndex: 10000 entries, 0 to 9999\n",
      "Data columns (total 14 columns):\n",
      "RowNumber          10000 non-null int64\n",
      "CustomerId         10000 non-null int64\n",
      "Surname            10000 non-null object\n",
      "CreditScore        10000 non-null int64\n",
      "Geography          10000 non-null object\n",
      "Gender             10000 non-null object\n",
      "Age                10000 non-null int64\n",
      "Tenure             10000 non-null int64\n",
      "Balance            10000 non-null float64\n",
      "NumOfProducts      10000 non-null int64\n",
      "HasCrCard          10000 non-null int64\n",
      "IsActiveMember     10000 non-null int64\n",
      "EstimatedSalary    10000 non-null float64\n",
      "Exited             10000 non-null int64\n",
      "dtypes: float64(2), int64(9), object(3)\n",
      "memory usage: 1.1+ MB\n"
     ]
    }
   ],
   "source": [
    "df.info()"
   ]
  },
  {
   "cell_type": "markdown",
   "metadata": {},
   "source": [
    "We can see that there are no missing data in the dataset. We will proceed with exploring each of the feature and try to find the best approach to each of the features.\n",
    "\n",
    "We won't need to include the first three columns in our model since \"CustomerId\", \"Surname\" and \"RowNumber\" do not  have any logical contribution to our prediction."
   ]
  },
  {
   "cell_type": "markdown",
   "metadata": {},
   "source": [
    "## Data Pre-processing"
   ]
  },
  {
   "cell_type": "code",
   "execution_count": 123,
   "metadata": {},
   "outputs": [],
   "source": [
    "X = df.iloc[:, 3:-1].values\n",
    "y = df.iloc[:, -1].values"
   ]
  },
  {
   "cell_type": "markdown",
   "metadata": {},
   "source": [
    "#### Categorical Variable Encoding\n",
    "\n",
    "We will encode two categorical variables: \"Geography\" and \"Gender\".\n",
    "The way to encode feature \"Geography\" is different from \"Gender\" as we only have two possible values for \"Gender\" (Female or Male). We can simply encode one of the to be \"1\" and the other one to be \"0\". But in \"Geography\" case, we have more than two possible values. If we encode this feature the same way as \"Gender\" there will be some numerical order in the value of this feature which would create some confusion in our model (we do not want to create a correlation between the numerical order in the feature and our target variable) "
   ]
  },
  {
   "cell_type": "code",
   "execution_count": 124,
   "metadata": {},
   "outputs": [],
   "source": [
    "# Gender\n",
    "le = LabelEncoder()\n",
    "X[:,2] = le.fit_transform(X[:,2])"
   ]
  },
  {
   "cell_type": "code",
   "execution_count": 125,
   "metadata": {},
   "outputs": [],
   "source": [
    "# Geography\n",
    "ct = ColumnTransformer(transformers = [('encoder', OneHotEncoder(), [1])] , remainder = \"passthrough\")\n",
    "X = np.array(ct.fit_transform(X))"
   ]
  },
  {
   "cell_type": "markdown",
   "metadata": {},
   "source": [
    "#### Split data"
   ]
  },
  {
   "cell_type": "code",
   "execution_count": 126,
   "metadata": {},
   "outputs": [],
   "source": [
    "X_train, X_test, y_train, y_test = train_test_split(X, y, test_size = 0.1, random_state = 0)"
   ]
  },
  {
   "cell_type": "markdown",
   "metadata": {},
   "source": [
    "#### Feature Scaling\n",
    "\n",
    "We will need to scale some of the features (some numerical features). The reason we are doing this is because we do not want one feature to overweight the other because of their relatively bigger range number. We will use methods of standardization to scale some of the numerical values.\n",
    "\n",
    "Here's the formula for standardization:\n",
    "\n",
    "#### $ x_{standardized} = \\frac{x - \\mu(X)}{\\sigma(X)} $"
   ]
  },
  {
   "cell_type": "code",
   "execution_count": 127,
   "metadata": {},
   "outputs": [],
   "source": [
    "scaler = StandardScaler()\n",
    "X_train[:, [3,5,6,7,8,11]] = scaler.fit_transform(X_train[:, [3,5,6,7,8,11]])\n",
    "X_test[:, [3,5,6,7,8,11]] = scaler.transform(X_test[:, [3,5,6,7,8,11]])"
   ]
  },
  {
   "cell_type": "markdown",
   "metadata": {},
   "source": [
    "## Applying different classification models\n",
    "### 1) XGBoost Classifier"
   ]
  },
  {
   "cell_type": "code",
   "execution_count": 128,
   "metadata": {},
   "outputs": [
    {
     "data": {
      "text/plain": [
       "XGBClassifier(base_score=0.5, booster='gbtree', colsample_bylevel=1,\n",
       "       colsample_bynode=1, colsample_bytree=1, gamma=0, gpu_id=-1,\n",
       "       importance_type='gain', interaction_constraints='',\n",
       "       learning_rate=0.300000012, max_delta_step=0, max_depth=6,\n",
       "       min_child_weight=1, missing=nan, monotone_constraints='()',\n",
       "       n_estimators=100, n_jobs=0, num_parallel_tree=1,\n",
       "       objective='binary:logistic', random_state=0, reg_alpha=0,\n",
       "       reg_lambda=1, scale_pos_weight=1, subsample=1, tree_method='exact',\n",
       "       validate_parameters=1, verbosity=None)"
      ]
     },
     "execution_count": 128,
     "metadata": {},
     "output_type": "execute_result"
    }
   ],
   "source": [
    "classifier_1 = XGBClassifier()\n",
    "classifier_1.fit(X_train, y_train)"
   ]
  },
  {
   "cell_type": "markdown",
   "metadata": {},
   "source": [
    "#### Confusion Matrix"
   ]
  },
  {
   "cell_type": "code",
   "execution_count": 129,
   "metadata": {},
   "outputs": [
    {
     "name": "stdout",
     "output_type": "stream",
     "text": [
      "[[745  49]\n",
      " [101 105]]\n"
     ]
    }
   ],
   "source": [
    "y_pred_1 = classifier_1.predict(X_test)\n",
    "print(confusion_matrix(y_test,y_pred_1))"
   ]
  },
  {
   "cell_type": "markdown",
   "metadata": {},
   "source": [
    "#### K-fold Cross Validation"
   ]
  },
  {
   "cell_type": "code",
   "execution_count": 130,
   "metadata": {},
   "outputs": [
    {
     "name": "stdout",
     "output_type": "stream",
     "text": [
      "Accuracy: 85.41 %\n",
      "Standard Deviation: 0.71 %\n"
     ]
    }
   ],
   "source": [
    "acc_1 = cross_val_score(estimator = classifier_1, X = X_train, y = y_train, cv = 10)\n",
    "print(\"Accuracy: {:.2f} %\".format(acc_1.mean()*100))\n",
    "print(\"Standard Deviation: {:.2f} %\".format(acc_1.std()*100))"
   ]
  },
  {
   "cell_type": "markdown",
   "metadata": {},
   "source": [
    "### 2) Random Forest Classifier"
   ]
  },
  {
   "cell_type": "code",
   "execution_count": 131,
   "metadata": {},
   "outputs": [
    {
     "data": {
      "text/plain": [
       "RandomForestClassifier(bootstrap=True, class_weight=None, criterion='gini',\n",
       "            max_depth=None, max_features='auto', max_leaf_nodes=None,\n",
       "            min_impurity_decrease=0.0, min_impurity_split=None,\n",
       "            min_samples_leaf=1, min_samples_split=2,\n",
       "            min_weight_fraction_leaf=0.0, n_estimators=100, n_jobs=None,\n",
       "            oob_score=False, random_state=0, verbose=0, warm_start=False)"
      ]
     },
     "execution_count": 131,
     "metadata": {},
     "output_type": "execute_result"
    }
   ],
   "source": [
    "classifier_2 = RandomForestClassifier(n_estimators = 100, random_state = 0)\n",
    "classifier_2.fit(X_train, y_train)"
   ]
  },
  {
   "cell_type": "markdown",
   "metadata": {},
   "source": [
    "#### Confusion Matrix"
   ]
  },
  {
   "cell_type": "code",
   "execution_count": 132,
   "metadata": {},
   "outputs": [
    {
     "name": "stdout",
     "output_type": "stream",
     "text": [
      "[[757  37]\n",
      " [103 103]]\n"
     ]
    }
   ],
   "source": [
    "y_pred_2 = classifier_2.predict(X_test)\n",
    "print(confusion_matrix(y_test,y_pred_2))"
   ]
  },
  {
   "cell_type": "markdown",
   "metadata": {},
   "source": [
    "#### K-fold Cross Validation"
   ]
  },
  {
   "cell_type": "code",
   "execution_count": 133,
   "metadata": {},
   "outputs": [
    {
     "name": "stdout",
     "output_type": "stream",
     "text": [
      "Accuracy: 86.21 %\n",
      "Standard Deviation: 0.75 %\n"
     ]
    }
   ],
   "source": [
    "acc_2 = cross_val_score(estimator = classifier_2, X = X_train, y = y_train, cv = 10)\n",
    "print(\"Accuracy: {:.2f} %\".format(acc_2.mean()*100))\n",
    "print(\"Standard Deviation: {:.2f} %\".format(acc_2.std()*100))"
   ]
  },
  {
   "cell_type": "markdown",
   "metadata": {},
   "source": [
    "### 3) Naive Bayes Classifier"
   ]
  },
  {
   "cell_type": "code",
   "execution_count": 134,
   "metadata": {},
   "outputs": [
    {
     "data": {
      "text/plain": [
       "GaussianNB(priors=None, var_smoothing=1e-09)"
      ]
     },
     "execution_count": 134,
     "metadata": {},
     "output_type": "execute_result"
    }
   ],
   "source": [
    "classifier_3 = GaussianNB()\n",
    "classifier_3.fit(X_train, y_train)"
   ]
  },
  {
   "cell_type": "markdown",
   "metadata": {},
   "source": [
    "#### Confusion Matrix"
   ]
  },
  {
   "cell_type": "code",
   "execution_count": 135,
   "metadata": {},
   "outputs": [
    {
     "name": "stdout",
     "output_type": "stream",
     "text": [
      "[[734  60]\n",
      " [121  85]]\n"
     ]
    }
   ],
   "source": [
    "y_pred_3 = classifier_3.predict(X_test)\n",
    "print(confusion_matrix(y_test,y_pred_3))"
   ]
  },
  {
   "cell_type": "markdown",
   "metadata": {},
   "source": [
    "#### K-fold Cross Validation"
   ]
  },
  {
   "cell_type": "code",
   "execution_count": 136,
   "metadata": {},
   "outputs": [
    {
     "name": "stdout",
     "output_type": "stream",
     "text": [
      "Accuracy: 81.88 %\n",
      "Standard Deviation: 1.11 %\n"
     ]
    }
   ],
   "source": [
    "acc_3 = cross_val_score(estimator = classifier_3, X = X_train, y = y_train, cv = 10)\n",
    "print(\"Accuracy: {:.2f} %\".format(acc_3.mean()*100))\n",
    "print(\"Standard Deviation: {:.2f} %\".format(acc_3.std()*100))"
   ]
  },
  {
   "cell_type": "markdown",
   "metadata": {},
   "source": [
    "### 4) Logistic Regression"
   ]
  },
  {
   "cell_type": "code",
   "execution_count": 137,
   "metadata": {},
   "outputs": [
    {
     "data": {
      "text/plain": [
       "LogisticRegression(C=1.0, class_weight=None, dual=False, fit_intercept=True,\n",
       "          intercept_scaling=1, max_iter=100, multi_class='warn',\n",
       "          n_jobs=None, penalty='l2', random_state=0, solver='warn',\n",
       "          tol=0.0001, verbose=0, warm_start=False)"
      ]
     },
     "execution_count": 137,
     "metadata": {},
     "output_type": "execute_result"
    }
   ],
   "source": [
    "classifier_4 = LogisticRegression(random_state = 0)\n",
    "classifier_4.fit(X_train, y_train)"
   ]
  },
  {
   "cell_type": "markdown",
   "metadata": {},
   "source": [
    "#### Confusion Matrix"
   ]
  },
  {
   "cell_type": "code",
   "execution_count": 138,
   "metadata": {},
   "outputs": [
    {
     "name": "stdout",
     "output_type": "stream",
     "text": [
      "[[761  33]\n",
      " [159  47]]\n"
     ]
    }
   ],
   "source": [
    "y_pred_4 = classifier_4.predict(X_test)\n",
    "print(confusion_matrix(y_test,y_pred_4))"
   ]
  },
  {
   "cell_type": "markdown",
   "metadata": {},
   "source": [
    "#### K-fold Cross Validation"
   ]
  },
  {
   "cell_type": "code",
   "execution_count": 139,
   "metadata": {},
   "outputs": [
    {
     "name": "stdout",
     "output_type": "stream",
     "text": [
      "Accuracy: 81.02 %\n",
      "Standard Deviation: 0.71 %\n"
     ]
    }
   ],
   "source": [
    "acc_4 = cross_val_score(estimator = classifier_4, X = X_train, y = y_train, cv = 10)\n",
    "print(\"Accuracy: {:.2f} %\".format(acc_4.mean()*100))\n",
    "print(\"Standard Deviation: {:.2f} %\".format(acc_4.std()*100))"
   ]
  },
  {
   "cell_type": "markdown",
   "metadata": {},
   "source": [
    "### 5) K-Nearest Neighbors"
   ]
  },
  {
   "cell_type": "code",
   "execution_count": 140,
   "metadata": {},
   "outputs": [
    {
     "data": {
      "text/plain": [
       "KNeighborsClassifier(algorithm='auto', leaf_size=30, metric='minkowski',\n",
       "           metric_params=None, n_jobs=None, n_neighbors=10, p=2,\n",
       "           weights='uniform')"
      ]
     },
     "execution_count": 140,
     "metadata": {},
     "output_type": "execute_result"
    }
   ],
   "source": [
    "classifier_5 = KNeighborsClassifier(n_neighbors = 10, metric= \"minkowski\", p=2)\n",
    "classifier_5.fit(X_train, y_train)"
   ]
  },
  {
   "cell_type": "markdown",
   "metadata": {},
   "source": [
    "#### Confusion Matrix"
   ]
  },
  {
   "cell_type": "code",
   "execution_count": 141,
   "metadata": {},
   "outputs": [
    {
     "name": "stdout",
     "output_type": "stream",
     "text": [
      "[[759  35]\n",
      " [129  77]]\n"
     ]
    }
   ],
   "source": [
    "y_pred_5 = classifier_5.predict(X_test)\n",
    "print(confusion_matrix(y_test,y_pred_5))"
   ]
  },
  {
   "cell_type": "markdown",
   "metadata": {},
   "source": [
    "#### K-fold Cross Validation"
   ]
  },
  {
   "cell_type": "code",
   "execution_count": 142,
   "metadata": {},
   "outputs": [
    {
     "name": "stdout",
     "output_type": "stream",
     "text": [
      "Accuracy: 84.63 %\n",
      "Standard Deviation: 0.69 %\n"
     ]
    }
   ],
   "source": [
    "acc_5 = cross_val_score(estimator = classifier_5, X = X_train, y = y_train, cv = 10)\n",
    "print(\"Accuracy: {:.2f} %\".format(acc_5.mean()*100))\n",
    "print(\"Standard Deviation: {:.2f} %\".format(acc_5.std()*100))"
   ]
  },
  {
   "cell_type": "markdown",
   "metadata": {},
   "source": [
    "### 6) Artifical Neural Network"
   ]
  },
  {
   "cell_type": "markdown",
   "metadata": {},
   "source": [
    "#### Initializing"
   ]
  },
  {
   "cell_type": "code",
   "execution_count": 143,
   "metadata": {},
   "outputs": [],
   "source": [
    "ann = tf.keras.models.Sequential()"
   ]
  },
  {
   "cell_type": "markdown",
   "metadata": {},
   "source": [
    "#### Adding layers"
   ]
  },
  {
   "cell_type": "code",
   "execution_count": 144,
   "metadata": {},
   "outputs": [],
   "source": [
    "ann.add(tf.keras.layers.Dense(units=6, activation=\"relu\", input_dim=12)) #first layer\n",
    "ann.add(tf.keras.layers.Dense(units=6, activation=\"relu\")) #Second layer \n",
    "ann.add(tf.keras.layers.Dense(units=6, activation=\"relu\")) #Third layer\n",
    "ann.add(tf.keras.layers.Dense(units=1, activation=\"sigmoid\")) #Output layer"
   ]
  },
  {
   "cell_type": "markdown",
   "metadata": {},
   "source": [
    "#### Compile"
   ]
  },
  {
   "cell_type": "code",
   "execution_count": 145,
   "metadata": {},
   "outputs": [],
   "source": [
    "ann.compile(optimizer=\"adam\", loss= \"binary_crossentropy\", metrics= [\"accuracy\"])"
   ]
  },
  {
   "cell_type": "code",
   "execution_count": 146,
   "metadata": {},
   "outputs": [
    {
     "name": "stdout",
     "output_type": "stream",
     "text": [
      "Train on 9000 samples\n",
      "Epoch 1/100\n",
      "9000/9000 [==============================] - 0s 49us/sample - loss: 0.5521 - acc: 0.7847\n",
      "Epoch 2/100\n",
      "9000/9000 [==============================] - 0s 36us/sample - loss: 0.4561 - acc: 0.7988\n",
      "Epoch 3/100\n",
      "9000/9000 [==============================] - 0s 36us/sample - loss: 0.4179 - acc: 0.8191\n",
      "Epoch 4/100\n",
      "9000/9000 [==============================] - 0s 36us/sample - loss: 0.4073 - acc: 0.8232\n",
      "Epoch 5/100\n",
      "9000/9000 [==============================] - 0s 37us/sample - loss: 0.3993 - acc: 0.8272\n",
      "Epoch 6/100\n",
      "9000/9000 [==============================] - 0s 39us/sample - loss: 0.3916 - acc: 0.8284\n",
      "Epoch 7/100\n",
      "9000/9000 [==============================] - 0s 38us/sample - loss: 0.3829 - acc: 0.8381\n",
      "Epoch 8/100\n",
      "9000/9000 [==============================] - 0s 36us/sample - loss: 0.3740 - acc: 0.8436\n",
      "Epoch 9/100\n",
      "9000/9000 [==============================] - 0s 36us/sample - loss: 0.3659 - acc: 0.8504\n",
      "Epoch 10/100\n",
      "9000/9000 [==============================] - 0s 35us/sample - loss: 0.3589 - acc: 0.8510\n",
      "Epoch 11/100\n",
      "9000/9000 [==============================] - 0s 37us/sample - loss: 0.3546 - acc: 0.8511\n",
      "Epoch 12/100\n",
      "9000/9000 [==============================] - 0s 37us/sample - loss: 0.3515 - acc: 0.8541\n",
      "Epoch 13/100\n",
      "9000/9000 [==============================] - 0s 43us/sample - loss: 0.3489 - acc: 0.8559\n",
      "Epoch 14/100\n",
      "9000/9000 [==============================] - 0s 40us/sample - loss: 0.3469 - acc: 0.8562\n",
      "Epoch 15/100\n",
      "9000/9000 [==============================] - 0s 49us/sample - loss: 0.3461 - acc: 0.8566\n",
      "Epoch 16/100\n",
      "9000/9000 [==============================] - 0s 42us/sample - loss: 0.3443 - acc: 0.8573\n",
      "Epoch 17/100\n",
      "9000/9000 [==============================] - 0s 43us/sample - loss: 0.3435 - acc: 0.8573\n",
      "Epoch 18/100\n",
      "9000/9000 [==============================] - 0s 38us/sample - loss: 0.3427 - acc: 0.8577\n",
      "Epoch 19/100\n",
      "9000/9000 [==============================] - 0s 41us/sample - loss: 0.3418 - acc: 0.8589\n",
      "Epoch 20/100\n",
      "9000/9000 [==============================] - 0s 38us/sample - loss: 0.3415 - acc: 0.8583\n",
      "Epoch 21/100\n",
      "9000/9000 [==============================] - 0s 39us/sample - loss: 0.3414 - acc: 0.8587\n",
      "Epoch 22/100\n",
      "9000/9000 [==============================] - 0s 40us/sample - loss: 0.3403 - acc: 0.8612\n",
      "Epoch 23/100\n",
      "9000/9000 [==============================] - 0s 41us/sample - loss: 0.3414 - acc: 0.8584\n",
      "Epoch 24/100\n",
      "9000/9000 [==============================] - 0s 44us/sample - loss: 0.3400 - acc: 0.8594\n",
      "Epoch 25/100\n",
      "9000/9000 [==============================] - 0s 38us/sample - loss: 0.3395 - acc: 0.8618\n",
      "Epoch 26/100\n",
      "9000/9000 [==============================] - 0s 40us/sample - loss: 0.3389 - acc: 0.8594\n",
      "Epoch 27/100\n",
      "9000/9000 [==============================] - 0s 39us/sample - loss: 0.3396 - acc: 0.8598\n",
      "Epoch 28/100\n",
      "9000/9000 [==============================] - 0s 39us/sample - loss: 0.3387 - acc: 0.8613\n",
      "Epoch 29/100\n",
      "9000/9000 [==============================] - 0s 41us/sample - loss: 0.3385 - acc: 0.8604\n",
      "Epoch 30/100\n",
      "9000/9000 [==============================] - 0s 42us/sample - loss: 0.3379 - acc: 0.8610\n",
      "Epoch 31/100\n",
      "9000/9000 [==============================] - 0s 42us/sample - loss: 0.3376 - acc: 0.8607\n",
      "Epoch 32/100\n",
      "9000/9000 [==============================] - 0s 38us/sample - loss: 0.3376 - acc: 0.8612\n",
      "Epoch 33/100\n",
      "9000/9000 [==============================] - 0s 39us/sample - loss: 0.3373 - acc: 0.8609\n",
      "Epoch 34/100\n",
      "9000/9000 [==============================] - 0s 37us/sample - loss: 0.3369 - acc: 0.8624\n",
      "Epoch 35/100\n",
      "9000/9000 [==============================] - 0s 39us/sample - loss: 0.3368 - acc: 0.8602\n",
      "Epoch 36/100\n",
      "9000/9000 [==============================] - 0s 38us/sample - loss: 0.3361 - acc: 0.8619\n",
      "Epoch 37/100\n",
      "9000/9000 [==============================] - 0s 38us/sample - loss: 0.3367 - acc: 0.8602\n",
      "Epoch 38/100\n",
      "9000/9000 [==============================] - 0s 38us/sample - loss: 0.3357 - acc: 0.8628\n",
      "Epoch 39/100\n",
      "9000/9000 [==============================] - 0s 38us/sample - loss: 0.3351 - acc: 0.8632\n",
      "Epoch 40/100\n",
      "9000/9000 [==============================] - 0s 38us/sample - loss: 0.3351 - acc: 0.8626\n",
      "Epoch 41/100\n",
      "9000/9000 [==============================] - 0s 38us/sample - loss: 0.3351 - acc: 0.8632\n",
      "Epoch 42/100\n",
      "9000/9000 [==============================] - 0s 40us/sample - loss: 0.3352 - acc: 0.8633\n",
      "Epoch 43/100\n",
      "9000/9000 [==============================] - 0s 39us/sample - loss: 0.3351 - acc: 0.8629\n",
      "Epoch 44/100\n",
      "9000/9000 [==============================] - 0s 37us/sample - loss: 0.3347 - acc: 0.8631\n",
      "Epoch 45/100\n",
      "9000/9000 [==============================] - 0s 39us/sample - loss: 0.3355 - acc: 0.8626\n",
      "Epoch 46/100\n",
      "9000/9000 [==============================] - 0s 37us/sample - loss: 0.3344 - acc: 0.8634\n",
      "Epoch 47/100\n",
      "9000/9000 [==============================] - 0s 39us/sample - loss: 0.3352 - acc: 0.8618\n",
      "Epoch 48/100\n",
      "9000/9000 [==============================] - 0s 40us/sample - loss: 0.3340 - acc: 0.8630\n",
      "Epoch 49/100\n",
      "9000/9000 [==============================] - 0s 38us/sample - loss: 0.3345 - acc: 0.8622\n",
      "Epoch 50/100\n",
      "9000/9000 [==============================] - 0s 39us/sample - loss: 0.3335 - acc: 0.8653\n",
      "Epoch 51/100\n",
      "9000/9000 [==============================] - 0s 40us/sample - loss: 0.3345 - acc: 0.8618\n",
      "Epoch 52/100\n",
      "9000/9000 [==============================] - 0s 41us/sample - loss: 0.3334 - acc: 0.8642\n",
      "Epoch 53/100\n",
      "9000/9000 [==============================] - 0s 41us/sample - loss: 0.3334 - acc: 0.8623\n",
      "Epoch 54/100\n",
      "9000/9000 [==============================] - 0s 38us/sample - loss: 0.3341 - acc: 0.8636\n",
      "Epoch 55/100\n",
      "9000/9000 [==============================] - 0s 39us/sample - loss: 0.3335 - acc: 0.8631\n",
      "Epoch 56/100\n",
      "9000/9000 [==============================] - 0s 38us/sample - loss: 0.3331 - acc: 0.8633\n",
      "Epoch 57/100\n",
      "9000/9000 [==============================] - 0s 38us/sample - loss: 0.3327 - acc: 0.8652\n",
      "Epoch 58/100\n",
      "9000/9000 [==============================] - 0s 41us/sample - loss: 0.3341 - acc: 0.8620\n",
      "Epoch 59/100\n",
      "9000/9000 [==============================] - 0s 37us/sample - loss: 0.3325 - acc: 0.8630\n",
      "Epoch 60/100\n",
      "9000/9000 [==============================] - 0s 37us/sample - loss: 0.3329 - acc: 0.8637\n",
      "Epoch 61/100\n",
      "9000/9000 [==============================] - 0s 38us/sample - loss: 0.3330 - acc: 0.8637\n",
      "Epoch 62/100\n",
      "9000/9000 [==============================] - 0s 40us/sample - loss: 0.3329 - acc: 0.8644\n",
      "Epoch 63/100\n",
      "9000/9000 [==============================] - 0s 38us/sample - loss: 0.3325 - acc: 0.8632\n",
      "Epoch 64/100\n",
      "9000/9000 [==============================] - 0s 39us/sample - loss: 0.3321 - acc: 0.8643\n",
      "Epoch 65/100\n",
      "9000/9000 [==============================] - 0s 38us/sample - loss: 0.3325 - acc: 0.8621\n",
      "Epoch 66/100\n",
      "9000/9000 [==============================] - 0s 38us/sample - loss: 0.3324 - acc: 0.8630\n",
      "Epoch 67/100\n",
      "9000/9000 [==============================] - 0s 38us/sample - loss: 0.3323 - acc: 0.8633\n",
      "Epoch 68/100\n",
      "9000/9000 [==============================] - 0s 38us/sample - loss: 0.3322 - acc: 0.8636\n",
      "Epoch 69/100\n",
      "9000/9000 [==============================] - 0s 39us/sample - loss: 0.3322 - acc: 0.8639\n",
      "Epoch 70/100\n",
      "9000/9000 [==============================] - 0s 41us/sample - loss: 0.3322 - acc: 0.8632\n",
      "Epoch 71/100\n",
      "9000/9000 [==============================] - 0s 43us/sample - loss: 0.3317 - acc: 0.8623\n",
      "Epoch 72/100\n",
      "9000/9000 [==============================] - 0s 40us/sample - loss: 0.3310 - acc: 0.8633\n",
      "Epoch 73/100\n",
      "9000/9000 [==============================] - 0s 44us/sample - loss: 0.3325 - acc: 0.8636\n",
      "Epoch 74/100\n",
      "9000/9000 [==============================] - 0s 37us/sample - loss: 0.3323 - acc: 0.8640\n",
      "Epoch 75/100\n",
      "9000/9000 [==============================] - 0s 39us/sample - loss: 0.3314 - acc: 0.8619\n",
      "Epoch 76/100\n",
      "9000/9000 [==============================] - 0s 39us/sample - loss: 0.3316 - acc: 0.8623\n",
      "Epoch 77/100\n",
      "9000/9000 [==============================] - 0s 41us/sample - loss: 0.3317 - acc: 0.8643\n",
      "Epoch 78/100\n",
      "9000/9000 [==============================] - 0s 38us/sample - loss: 0.3327 - acc: 0.8636\n",
      "Epoch 79/100\n",
      "9000/9000 [==============================] - 0s 36us/sample - loss: 0.3309 - acc: 0.8656\n",
      "Epoch 80/100\n",
      "9000/9000 [==============================] - 0s 39us/sample - loss: 0.3313 - acc: 0.8620\n",
      "Epoch 81/100\n",
      "9000/9000 [==============================] - 0s 40us/sample - loss: 0.3315 - acc: 0.8636\n",
      "Epoch 82/100\n",
      "9000/9000 [==============================] - 0s 38us/sample - loss: 0.3311 - acc: 0.8631\n",
      "Epoch 83/100\n",
      "9000/9000 [==============================] - 0s 37us/sample - loss: 0.3320 - acc: 0.8644\n",
      "Epoch 84/100\n",
      "9000/9000 [==============================] - 0s 37us/sample - loss: 0.3313 - acc: 0.8618\n",
      "Epoch 85/100\n",
      "9000/9000 [==============================] - 0s 37us/sample - loss: 0.3311 - acc: 0.8641\n",
      "Epoch 86/100\n",
      "9000/9000 [==============================] - 0s 41us/sample - loss: 0.3310 - acc: 0.8637\n",
      "Epoch 87/100\n",
      "9000/9000 [==============================] - 0s 39us/sample - loss: 0.3311 - acc: 0.8630\n",
      "Epoch 88/100\n",
      "9000/9000 [==============================] - 0s 37us/sample - loss: 0.3312 - acc: 0.8637\n",
      "Epoch 89/100\n",
      "9000/9000 [==============================] - 0s 37us/sample - loss: 0.3312 - acc: 0.8649\n",
      "Epoch 90/100\n",
      "9000/9000 [==============================] - 0s 38us/sample - loss: 0.3317 - acc: 0.8633\n",
      "Epoch 91/100\n",
      "9000/9000 [==============================] - 0s 40us/sample - loss: 0.3309 - acc: 0.8642\n",
      "Epoch 92/100\n",
      "9000/9000 [==============================] - 0s 42us/sample - loss: 0.3313 - acc: 0.8631\n",
      "Epoch 93/100\n",
      "9000/9000 [==============================] - 0s 44us/sample - loss: 0.3309 - acc: 0.8637\n",
      "Epoch 94/100\n",
      "9000/9000 [==============================] - 0s 44us/sample - loss: 0.3306 - acc: 0.8644\n",
      "Epoch 95/100\n",
      "9000/9000 [==============================] - 0s 39us/sample - loss: 0.3313 - acc: 0.8652\n",
      "Epoch 96/100\n",
      "9000/9000 [==============================] - 0s 39us/sample - loss: 0.3304 - acc: 0.8640\n",
      "Epoch 97/100\n",
      "9000/9000 [==============================] - 0s 38us/sample - loss: 0.3318 - acc: 0.8628\n",
      "Epoch 98/100\n",
      "9000/9000 [==============================] - 0s 38us/sample - loss: 0.3308 - acc: 0.8626\n",
      "Epoch 99/100\n",
      "9000/9000 [==============================] - 0s 42us/sample - loss: 0.3316 - acc: 0.8626\n",
      "Epoch 100/100\n",
      "9000/9000 [==============================] - 0s 37us/sample - loss: 0.3308 - acc: 0.8627\n"
     ]
    },
    {
     "data": {
      "text/plain": [
       "<tensorflow.python.keras.callbacks.History at 0x27797f6acc0>"
      ]
     },
     "execution_count": 146,
     "metadata": {},
     "output_type": "execute_result"
    }
   ],
   "source": [
    "ann.fit(X_train, y_train, batch_size=32, epochs=100)"
   ]
  },
  {
   "cell_type": "markdown",
   "metadata": {},
   "source": [
    "#### Confusion Matrix"
   ]
  },
  {
   "cell_type": "code",
   "execution_count": 147,
   "metadata": {},
   "outputs": [
    {
     "name": "stdout",
     "output_type": "stream",
     "text": [
      "[[768  26]\n",
      " [114  92]]\n"
     ]
    }
   ],
   "source": [
    "y_pred_6 = ann.predict(X_test)\n",
    "y_pred_6 = (y_pred_6 > 0.5)\n",
    "print(confusion_matrix(y_test, y_pred_6))"
   ]
  },
  {
   "cell_type": "code",
   "execution_count": 148,
   "metadata": {},
   "outputs": [
    {
     "name": "stdout",
     "output_type": "stream",
     "text": [
      "Accuracy: 86.00%\n"
     ]
    }
   ],
   "source": [
    "acc_6 = accuracy_score(y_test, y_pred_6)\n",
    "print(\"Accuracy: {:.2f}%\".format(acc_6*100))"
   ]
  },
  {
   "cell_type": "markdown",
   "metadata": {},
   "source": [
    "There are so many improvement that could be made such as tuning the hyperparameter, adding extra layers (for ANN), etc. All in all, the best classification algorithm that we get for now are Artifical Neural Network (ANN) and Random Forest Classifier, with accuracy score of approximately 86%."
   ]
  }
 ],
 "metadata": {
  "kernelspec": {
   "display_name": "Python 3",
   "language": "python",
   "name": "python3"
  },
  "language_info": {
   "codemirror_mode": {
    "name": "ipython",
    "version": 3
   },
   "file_extension": ".py",
   "mimetype": "text/x-python",
   "name": "python",
   "nbconvert_exporter": "python",
   "pygments_lexer": "ipython3",
   "version": "3.7.1"
  }
 },
 "nbformat": 4,
 "nbformat_minor": 2
}
